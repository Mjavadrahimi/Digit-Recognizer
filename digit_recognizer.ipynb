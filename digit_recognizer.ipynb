{
 "cells": [
  {
   "cell_type": "code",
   "execution_count": 1,
   "id": "f88c874c-7a0e-4854-9855-d70f823929e3",
   "metadata": {},
   "outputs": [],
   "source": [
    "# digit recognizer 0 to 9 using mnist Dataset"
   ]
  },
  {
   "cell_type": "code",
   "execution_count": 66,
   "id": "eac1df5b-3148-4e29-b718-e88ec68eabc4",
   "metadata": {},
   "outputs": [],
   "source": [
    "import numpy as np\n",
    "import pandas as pd\n",
    "import math\n",
    "from matplotlib import pyplot as plt \n",
    "import torch\n",
    "import torch.nn as nn\n",
    "import torch.cuda\n",
    "import torchvision.datasets as datasets\n",
    "import time"
   ]
  },
  {
   "cell_type": "code",
   "execution_count": 3,
   "id": "40c366a7-c594-43da-aeb1-033c01472cbc",
   "metadata": {},
   "outputs": [],
   "source": [
    "# MNIST = datasets.mnist('data.csvmnist_trainset')\n",
    "mnist_trainset = datasets.MNIST(root='./data', train=True, download=True, transform=None)\n",
    "mnist_testset = datasets.MNIST(root='./data', train=False, download=True, transform=None)"
   ]
  },
  {
   "cell_type": "code",
   "execution_count": 4,
   "id": "27fbc970-922e-46f3-99d0-9caf25bad696",
   "metadata": {},
   "outputs": [
    {
     "data": {
      "image/png": "[encoded data removed]",
      "text/plain": [
       "<Figure size 640x480 with 1 Axes>"
      ]
     },
     "metadata": {},
     "output_type": "display_data"
    },
    {
     "data": {
      "image/png": "[encoded data removed]",
      "text/plain": [
       "<Figure size 640x480 with 1 Axes>"
      ]
     },
     "metadata": {},
     "output_type": "display_data"
    }
   ],
   "source": [
    "train_count = np.unique(mnist_trainset.targets.numpy(), return_counts=True)\n",
    "test_count = np.unique(mnist_testset.targets.numpy(), return_counts=True)\n",
    "\n",
    "plt.barh(y=train_count[0], width=train_count[1])\n",
    "plt.title('train set')\n",
    "plt.show()\n",
    "\n",
    "plt.barh(y=test_count[0], width=test_count[1])\n",
    "plt.title('test set')\n",
    "plt.show()"
   ]
  },
  {
   "cell_type": "code",
   "execution_count": 5,
   "id": "16ecb58c-9172-4a36-adb6-520c7516be62",
   "metadata": {},
   "outputs": [
    {
     "data": {
      "text/plain": [
       "device(type='cuda')"
      ]
     },
     "execution_count": 5,
     "metadata": {},
     "output_type": "execute_result"
    }
   ],
   "source": [
    "device = torch.device(\"cuda\" if torch.cuda.is_available() else \"cpu\")\n",
    "device"
   ]
  },
  {
   "cell_type": "code",
   "execution_count": 6,
   "id": "10893d49-1d36-4e7b-a3d1-0be1d69ec82b",
   "metadata": {},
   "outputs": [
    {
     "data": {
      "text/plain": [
       "tensor([[[0., 0., 0.,  ..., 0., 0., 0.],\n",
       "         [0., 0., 0.,  ..., 0., 0., 0.],\n",
       "         [0., 0., 0.,  ..., 0., 0., 0.],\n",
       "         ...,\n",
       "         [0., 0., 0.,  ..., 0., 0., 0.],\n",
       "         [0., 0., 0.,  ..., 0., 0., 0.],\n",
       "         [0., 0., 0.,  ..., 0., 0., 0.]],\n",
       "\n",
       "        [[0., 0., 0.,  ..., 0., 0., 0.],\n",
       "         [0., 0., 0.,  ..., 0., 0., 0.],\n",
       "         [0., 0., 0.,  ..., 0., 0., 0.],\n",
       "         ...,\n",
       "         [0., 0., 0.,  ..., 0., 0., 0.],\n",
       "         [0., 0., 0.,  ..., 0., 0., 0.],\n",
       "         [0., 0., 0.,  ..., 0., 0., 0.]],\n",
       "\n",
       "        [[0., 0., 0.,  ..., 0., 0., 0.],\n",
       "         [0., 0., 0.,  ..., 0., 0., 0.],\n",
       "         [0., 0., 0.,  ..., 0., 0., 0.],\n",
       "         ...,\n",
       "         [0., 0., 0.,  ..., 0., 0., 0.],\n",
       "         [0., 0., 0.,  ..., 0., 0., 0.],\n",
       "         [0., 0., 0.,  ..., 0., 0., 0.]],\n",
       "\n",
       "        ...,\n",
       "\n",
       "        [[0., 0., 0.,  ..., 0., 0., 0.],\n",
       "         [0., 0., 0.,  ..., 0., 0., 0.],\n",
       "         [0., 0., 0.,  ..., 0., 0., 0.],\n",
       "         ...,\n",
       "         [0., 0., 0.,  ..., 0., 0., 0.],\n",
       "         [0., 0., 0.,  ..., 0., 0., 0.],\n",
       "         [0., 0., 0.,  ..., 0., 0., 0.]],\n",
       "\n",
       "        [[0., 0., 0.,  ..., 0., 0., 0.],\n",
       "         [0., 0., 0.,  ..., 0., 0., 0.],\n",
       "         [0., 0., 0.,  ..., 0., 0., 0.],\n",
       "         ...,\n",
       "         [0., 0., 0.,  ..., 0., 0., 0.],\n",
       "         [0., 0., 0.,  ..., 0., 0., 0.],\n",
       "         [0., 0., 0.,  ..., 0., 0., 0.]],\n",
       "\n",
       "        [[0., 0., 0.,  ..., 0., 0., 0.],\n",
       "         [0., 0., 0.,  ..., 0., 0., 0.],\n",
       "         [0., 0., 0.,  ..., 0., 0., 0.],\n",
       "         ...,\n",
       "         [0., 0., 0.,  ..., 0., 0., 0.],\n",
       "         [0., 0., 0.,  ..., 0., 0., 0.],\n",
       "         [0., 0., 0.,  ..., 0., 0., 0.]]], device='cuda:0')"
      ]
     },
     "execution_count": 6,
     "metadata": {},
     "output_type": "execute_result"
    }
   ],
   "source": [
    "X_train = mnist_trainset.data.to(device)\n",
    "X_train = X_train.float()\n",
    "\n",
    "y_train = mnist_trainset.targets.to(device)\n",
    "\n",
    "X_test = mnist_testset.data.to(device)\n",
    "X_test = X_test.float()\n",
    "\n",
    "y_test = mnist_testset.targets.to(device)\n",
    "\n",
    "X_train"
   ]
  },
  {
   "cell_type": "code",
   "execution_count": 82,
   "id": "d452b149-835b-4117-b238-44342383a1fd",
   "metadata": {},
   "outputs": [
    {
     "data": {
      "image/png": "[encoded data removed]",
      "text/plain": [
       "<Figure size 640x480 with 1 Axes>"
      ]
     },
     "metadata": {},
     "output_type": "display_data"
    }
   ],
   "source": [
    "def show_img(X: torch.Tensor, y: torch.Tensor, pred: torch.Tensor):\n",
    "    X = torch.Tensor.cpu(X).reshape(-1, 28, 28, 1)\n",
    "    y = torch.Tensor.cpu(y).reshape(-1, 1)\n",
    "    pred = torch.Tensor.cpu(pred).reshape(-1, 1)\n",
    "    rows = columns = math.ceil(X.size(dim=0)**0.5)\n",
    "    fig, axs = plt.subplots(rows, columns)\n",
    "    for i in range(X.size(dim=0)):\n",
    "        plt.subplot(rows, columns, i+1)\n",
    "        plt.axis('off')\n",
    "        plt.imshow(X[i] , cmap='grey')\n",
    "        plt.title(f'{y[i].item()} -> {pred[i].item()}', color=('red' if y[i].item()!=pred[i].item() else 'green'))\n",
    "    plt.show()\n",
    "\n",
    "show_img(X_train[0], y_train[0], y_train[0])"
   ]
  },
  {
   "cell_type": "code",
   "execution_count": 8,
   "id": "37335034-d2d0-429e-87bf-9cab2782ed5e",
   "metadata": {},
   "outputs": [],
   "source": [
    "class Model1(nn.Module): # without convolution layers\n",
    "    def __init__(self, input_size, hidden_size1, hidden_size2):\n",
    "        super().__init__()\n",
    "        self.l1 = nn.Linear(input_size, hidden_size1)\n",
    "        self.l2 = nn.Linear(hidden_size1, hidden_size2)\n",
    "        self.l3 = nn.Linear(hidden_size2, 10)\n",
    "        self.relu = nn.ReLU()\n",
    "        self.sig = nn.Sigmoid()\n",
    "\n",
    "    def forward(self, input: torch.Tensor):\n",
    "        output = input.view(-1, 28*28)\n",
    "        output = self.l1(output)\n",
    "        output = self.relu(output)\n",
    "        output = self.l2(output)\n",
    "        output = self.relu(output)\n",
    "        output = self.l3(output)\n",
    "        output = self.sig(output)\n",
    "        return output"
   ]
  },
  {
   "cell_type": "code",
   "execution_count": 9,
   "id": "4e36b247-3008-4ce3-831d-150ff9577b29",
   "metadata": {},
   "outputs": [],
   "source": [
    "class Model2(nn.Module): # using CNN's \n",
    "    def __init__(self, input_size, hidden_size1, hidden_size2):\n",
    "        super().__init__()\n",
    "        self.conv1 = nn.Conv2d(in_channels=1, out_channels=6, kernel_size=5)\n",
    "        self.conv2 = nn.Conv2d(in_channels=6, out_channels=16, kernel_size=5)\n",
    "        self.pool = nn.MaxPool2d(2, 2)\n",
    "        \n",
    "        self.l1 = nn.Linear(input_size, hidden_size1)\n",
    "        self.l2 = nn.Linear(hidden_size1, hidden_size2)\n",
    "        self.l3 = nn.Linear(hidden_size2, 10)\n",
    "        self.dropout = nn.Dropout(0.2)\n",
    "        \n",
    "        self.relu = nn.ReLU()\n",
    "        self.sig = nn.Sigmoid()\n",
    "\n",
    "    def forward(self, input: torch.Tensor):\n",
    "        input = input.view(-1, 1, 28, 28)\n",
    "        # size = X * 28*28 * 1\n",
    "        \n",
    "        output = self.relu(self.pool(self.conv1(input)))\n",
    "        # size = X * 12*12 * 6\n",
    "        output = self.relu(self.pool(self.conv2(output)))\n",
    "        # size = X * 4*4 * 16\n",
    "        \n",
    "        output = output.view(-1, 16 * 4*4) # flattening\n",
    "        # size = X * 256\n",
    "\n",
    "        output = self.dropout(output)\n",
    "        output = self.l1(output)\n",
    "        output = self.relu(output)\n",
    "        \n",
    "        output = self.dropout(output)\n",
    "        output = self.l2(output)\n",
    "        output = self.relu(output)\n",
    "        \n",
    "        output = self.dropout(output)\n",
    "        output = self.l3(output)\n",
    "        output = self.sig(output)\n",
    "        return output"
   ]
  },
  {
   "cell_type": "code",
   "execution_count": 10,
   "id": "976ba29d-81bc-4f2b-b811-a3940737dde8",
   "metadata": {},
   "outputs": [],
   "source": [
    "def train(model: nn.Module, epochs: int, learning_rate: float) -> nn.Module:\n",
    "    print(model.parameters)\n",
    "    criterion = nn.CrossEntropyLoss()\n",
    "    optimizer = torch.optim.Adam(model.parameters(), lr=learning_rate)\n",
    "    \n",
    "    start_time = time.time()\n",
    "    for i in range(epochs):\n",
    "        pred = model(X_train)\n",
    "        loss = criterion(pred, y_train)\n",
    "            \n",
    "        optimizer.zero_grad()\n",
    "        loss.backward()\n",
    "        optimizer.step()\n",
    "        if(i % (epochs//10)==0):\n",
    "            with torch.no_grad():\n",
    "                pred_test = model(X_test)\n",
    "                pred_test = torch.argmax(pred_test, dim=1)\n",
    "            \n",
    "                correct = (pred_test==y_test).sum().item()\n",
    "                acc = 100 * (correct/y_test.size(dim=0))\n",
    "                print(f'epoch = {i}/{epochs}')\n",
    "                print(f'loss = {loss.item():.3f}')\n",
    "                print(f'accuracy = {acc:.3f}', end=2*'\\n')\n",
    "\n",
    "    \n",
    "    with torch.no_grad(): # not using evaluation(test) for gradient descent\n",
    "        pred_test = model(X_test)\n",
    "        pred_test = torch.argmax(pred_test, dim=1)\n",
    "    \n",
    "        correct = (pred_test==y_test).sum().item()\n",
    "        acc = 100 * (correct/y_test.size(dim=0))\n",
    "        print(f'epoch = {i+1}/{epochs}')\n",
    "        print(f'loss = {loss.item():.3f}')\n",
    "        print(f'accuracy = {acc:.3f}', end=2*'\\n')\n",
    "        \n",
    "    end_time = time.time()\n",
    "    print(f'total {end_time-start_time:.3f} seconds on {device}.')\n",
    "    return model"
   ]
  },
  {
   "cell_type": "code",
   "execution_count": 90,
   "id": "796bfc99-394e-4549-985b-f43bdbe3a347",
   "metadata": {},
   "outputs": [
    {
     "name": "stdout",
     "output_type": "stream",
     "text": [
      "model 1\n",
      "<bound method Module.parameters of Model1(\n",
      "  (l1): Linear(in_features=784, out_features=40, bias=True)\n",
      "  (l2): Linear(in_features=40, out_features=20, bias=True)\n",
      "  (l3): Linear(in_features=20, out_features=10, bias=True)\n",
      "  (relu): ReLU()\n",
      "  (sig): Sigmoid()\n",
      ")>\n",
      "epoch = 0/200\n",
      "loss = 2.394\n",
      "accuracy = 13.460\n",
      "\n",
      "epoch = 20/200\n",
      "loss = 1.821\n",
      "accuracy = 50.310\n",
      "\n",
      "epoch = 40/200\n",
      "loss = 1.707\n",
      "accuracy = 64.190\n",
      "\n",
      "epoch = 60/200\n",
      "loss = 1.598\n",
      "accuracy = 76.000\n",
      "\n",
      "epoch = 80/200\n",
      "loss = 1.566\n",
      "accuracy = 79.550\n",
      "\n",
      "epoch = 100/200\n",
      "loss = 1.551\n",
      "accuracy = 82.320\n",
      "\n",
      "epoch = 120/200\n",
      "loss = 1.541\n",
      "accuracy = 87.160\n",
      "\n",
      "epoch = 140/200\n",
      "loss = 1.527\n",
      "accuracy = 91.280\n",
      "\n",
      "epoch = 160/200\n",
      "loss = 1.519\n",
      "accuracy = 92.720\n",
      "\n",
      "epoch = 180/200\n",
      "loss = 1.514\n",
      "accuracy = 93.280\n",
      "\n",
      "epoch = 200/200\n",
      "loss = 1.510\n",
      "accuracy = 93.750\n",
      "\n",
      "total 10.439 seconds on cuda.\n",
      "\n",
      "\n",
      "\n",
      "\n",
      "\n",
      "\n",
      "model 2\n",
      "<bound method Module.parameters of Model2(\n",
      "  (conv1): Conv2d(1, 6, kernel_size=(5, 5), stride=(1, 1))\n",
      "  (conv2): Conv2d(6, 16, kernel_size=(5, 5), stride=(1, 1))\n",
      "  (pool): MaxPool2d(kernel_size=2, stride=2, padding=0, dilation=1, ceil_mode=False)\n",
      "  (l1): Linear(in_features=256, out_features=120, bias=True)\n",
      "  (l2): Linear(in_features=120, out_features=80, bias=True)\n",
      "  (l3): Linear(in_features=80, out_features=10, bias=True)\n",
      "  (dropout): Dropout(p=0.2, inplace=False)\n",
      "  (relu): ReLU()\n",
      "  (sig): Sigmoid()\n",
      ")>\n",
      "epoch = 0/200\n",
      "loss = 2.405\n",
      "accuracy = 10.700\n",
      "\n",
      "epoch = 20/200\n",
      "loss = 1.792\n",
      "accuracy = 67.240\n",
      "\n",
      "epoch = 40/200\n",
      "loss = 1.644\n",
      "accuracy = 82.290\n",
      "\n",
      "epoch = 60/200\n",
      "loss = 1.582\n",
      "accuracy = 88.310\n",
      "\n",
      "epoch = 80/200\n",
      "loss = 1.548\n",
      "accuracy = 91.340\n",
      "\n",
      "epoch = 100/200\n",
      "loss = 1.529\n",
      "accuracy = 93.350\n",
      "\n",
      "epoch = 120/200\n",
      "loss = 1.518\n",
      "accuracy = 94.390\n",
      "\n",
      "epoch = 140/200\n",
      "loss = 1.511\n",
      "accuracy = 94.910\n",
      "\n",
      "epoch = 160/200\n",
      "loss = 1.505\n",
      "accuracy = 95.340\n",
      "\n",
      "epoch = 180/200\n",
      "loss = 1.501\n",
      "accuracy = 95.780\n",
      "\n",
      "epoch = 200/200\n",
      "loss = 1.498\n",
      "accuracy = 96.370\n",
      "\n",
      "total 220.578 seconds on cuda.\n"
     ]
    }
   ],
   "source": [
    "epochs = 200\n",
    "learning_rate = 0.0005\n",
    "\n",
    "model1 = Model1(28*28, 40, 20).to(device)\n",
    "model2 = Model2(4*4*16, 120, 80).to(device)\n",
    "\n",
    "print(\"model 1\")\n",
    "train(model1, epochs=epochs, learning_rate=learning_rate)\n",
    "\n",
    "print('\\n'*5)\n",
    "\n",
    "print(\"model 2\")\n",
    "model = train(model2, epochs=epochs, learning_rate=learning_rate) # saving trained conv-model"
   ]
  },
  {
   "cell_type": "code",
   "execution_count": 94,
   "id": "136fa9f2-5694-49c8-bae7-12114f29e38e",
   "metadata": {},
   "outputs": [
    {
     "data": {
      "image/png": "[encoded data removed]",
      "text/plain": [
       "<Figure size 640x480 with 9 Axes>"
      ]
     },
     "metadata": {},
     "output_type": "display_data"
    }
   ],
   "source": [
    "pred_test = model(X_test)\n",
    "pred_test = torch.argmax(pred_test, dim=1)\n",
    "\n",
    "sample_size = 9\n",
    "show_img(X_test[:sample_size], y_test[:sample_size],pred_test[:sample_size])"
   ]
  },
  {
   "cell_type": "code",
   "execution_count": 98,
   "id": "dadb0a49-fa68-4062-b25c-60e879c6854e",
   "metadata": {},
   "outputs": [
    {
     "name": "stdout",
     "output_type": "stream",
     "text": [
      "Wrong predicts : 392/10000\n"
     ]
    },
    {
     "data": {
      "image/png": "[encoded data removed]",
      "text/plain": [
       "<Figure size 640x480 with 9 Axes>"
      ]
     },
     "metadata": {},
     "output_type": "display_data"
    },
    {
     "data": {
      "image/png": "[encoded data removed]",
      "text/plain": [
       "<Figure size 640x480 with 9 Axes>"
      ]
     },
     "metadata": {},
     "output_type": "display_data"
    },
    {
     "data": {
      "image/png": "[encoded data removed]",
      "text/plain": [
       "<Figure size 640x480 with 9 Axes>"
      ]
     },
     "metadata": {},
     "output_type": "display_data"
    }
   ],
   "source": [
    "wrong_pred_index = (pred_test!=y_test)\n",
    "wrong_preds = (X_test[wrong_pred_index], y_test[wrong_pred_index], pred_test[wrong_pred_index])\n",
    "print(f'Wrong predicts : {wrong_preds[0].size(dim=0)}/{X_test.size(dim=0)}')\n",
    "for i in range(0, 9*3, 9): # 10 instances which the model predicted wrongly\n",
    "    show_img(wrong_preds[0][i:i+9], wrong_preds[1][i:i+9], wrong_preds[2][i:i+9])\n",
    "\n",
    "# show_img(wrong_preds[0][i], wrong_preds[1][i], wrong_preds[2][i])"
   ]
  }
 ],
 "metadata": {
  "kernelspec": {
   "display_name": "Python 3 (ipykernel)",
   "language": "python",
   "name": "python3"
  },
  "language_info": {
   "codemirror_mode": {
    "name": "ipython",
    "version": 3
   },
   "file_extension": ".py",
   "mimetype": "text/x-python",
   "name": "python",
   "nbconvert_exporter": "python",
   "pygments_lexer": "ipython3",
   "version": "3.11.5"
  }
 },
 "nbformat": 4,
 "nbformat_minor": 5
}
